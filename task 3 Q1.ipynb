{
 "cells": [
  {
   "cell_type": "code",
   "execution_count": 1,
   "metadata": {},
   "outputs": [
    {
     "name": "stdout",
     "output_type": "stream",
     "text": [
      "its a cold day. stay warm!\n"
     ]
    }
   ],
   "source": [
    "temperature = float (input(\"enter the cureent temperature in celsius\"))\n",
    "if temperature >= 30 :\n",
    "    print(\"its a hot day. stay hydrated!\")\n",
    "elif 20 <= temperature  <=29 :\n",
    "    print(\"its a warm day. enjoy the weather\")\n",
    "elif 10 <= temperature <= 19 :\n",
    "    print(\"its a cool day. wear a jacket\")    \n",
    "else :\n",
    "    print(\"its a cold day. stay warm!\")       "
   ]
  }
 ],
 "metadata": {
  "kernelspec": {
   "display_name": "Python 3",
   "language": "python",
   "name": "python3"
  },
  "language_info": {
   "codemirror_mode": {
    "name": "ipython",
    "version": 3
   },
   "file_extension": ".py",
   "mimetype": "text/x-python",
   "name": "python",
   "nbconvert_exporter": "python",
   "pygments_lexer": "ipython3",
   "version": "3.13.1"
  }
 },
 "nbformat": 4,
 "nbformat_minor": 2
}
