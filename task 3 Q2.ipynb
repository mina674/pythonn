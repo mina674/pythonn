{
 "cells": [
  {
   "cell_type": "code",
   "execution_count": 3,
   "metadata": {},
   "outputs": [
    {
     "name": "stdout",
     "output_type": "stream",
     "text": [
      "the numbers divisible by 3: [3]\n",
      "the numbers divisible by 3: [3, 6]\n",
      "the numbers divisible by 3: [3, 6, 9]\n",
      "the numbers divisible by 3: [3, 6, 9, 12]\n",
      "the numbers divisible by 3: [3, 6, 9, 12, 15]\n",
      "the numbers divisible by 3: [3, 6, 9, 12, 15, 18]\n"
     ]
    }
   ],
   "source": [
    "numbers = list(range(1,20))\n",
    "divisible_by_3 = []\n",
    "for number in numbers :\n",
    "    if number % 3 == 0 :\n",
    "        divisible_by_3.append(number)\n",
    "        print(\"the numbers divisible by 3:\",divisible_by_3)\n"
   ]
  }
 ],
 "metadata": {
  "kernelspec": {
   "display_name": "Python 3",
   "language": "python",
   "name": "python3"
  },
  "language_info": {
   "codemirror_mode": {
    "name": "ipython",
    "version": 3
   },
   "file_extension": ".py",
   "mimetype": "text/x-python",
   "name": "python",
   "nbconvert_exporter": "python",
   "pygments_lexer": "ipython3",
   "version": "3.13.1"
  }
 },
 "nbformat": 4,
 "nbformat_minor": 2
}
