{
 "cells": [
  {
   "cell_type": "code",
   "execution_count": 1,
   "metadata": {},
   "outputs": [
    {
     "name": "stdout",
     "output_type": "stream",
     "text": [
      "you have 10.0 left in your budget\n"
     ]
    }
   ],
   "source": [
    "x = float (input(\"enter a value of x:\"))\n",
    "y = float (input(\"enter a value of y :\"))\n",
    "z = float (input(\"enter a value of z :\"))\n",
    "budget = float (input(\"enter a value of budget :\"))\n",
    "totalcost = x+y+z\n",
    "onme= totalcost - budget\n",
    "left = budget - totalcost\n",
    "if budget >= totalcost:\n",
    "    print (f\"you have {left} left in your budget\")\n",
    "else:\n",
    "    print (f\"you have {onme} over your budget\")"
   ]
  }
 ],
 "metadata": {
  "kernelspec": {
   "display_name": "Python 3",
   "language": "python",
   "name": "python3"
  },
  "language_info": {
   "codemirror_mode": {
    "name": "ipython",
    "version": 3
   },
   "file_extension": ".py",
   "mimetype": "text/x-python",
   "name": "python",
   "nbconvert_exporter": "python",
   "pygments_lexer": "ipython3",
   "version": "3.13.1"
  }
 },
 "nbformat": 4,
 "nbformat_minor": 2
}
