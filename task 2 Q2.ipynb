{
 "cells": [
  {
   "cell_type": "code",
   "execution_count": 1,
   "metadata": {},
   "outputs": [
    {
     "name": "stdout",
     "output_type": "stream",
     "text": [
      "mina - Average Grade: 63.33\n",
      "tamer - Average Grade: 56.00\n",
      "youserf - Average Grade: 70.00\n"
     ]
    }
   ],
   "source": [
    "students=[\n",
    "   {\"name\":\"mina\" ,\"grades\" : [80,50,60]},\n",
    "   {\"name\":\"tamer\" ,\"grades\" : [90,30,48]},\n",
    "   {\"name\":\"youserf\" ,\"grades\" :[60,70,80]}\n",
    "] \n",
    "for student in students :\n",
    "   grades = student[\"grades\"]  \n",
    "   average=sum(grades)/ len(grades)\n",
    "   student[\"average_grade\"] = average \n",
    "for student in students :\n",
    "   print(f'{student[\"name\"]} - Average Grade: {student[\"average_grade\"]:.2f}')"
   ]
  }
 ],
 "metadata": {
  "kernelspec": {
   "display_name": "Python 3",
   "language": "python",
   "name": "python3"
  },
  "language_info": {
   "codemirror_mode": {
    "name": "ipython",
    "version": 3
   },
   "file_extension": ".py",
   "mimetype": "text/x-python",
   "name": "python",
   "nbconvert_exporter": "python",
   "pygments_lexer": "ipython3",
   "version": "3.13.1"
  }
 },
 "nbformat": 4,
 "nbformat_minor": 2
}
