{
 "cells": [
  {
   "cell_type": "code",
   "execution_count": 11,
   "metadata": {},
   "outputs": [
    {
     "name": "stdout",
     "output_type": "stream",
     "text": [
      "{'MINA': '01525252525', 'ROFA': '0215158552', 'PETER': '012020202020', 'FADY': '0125555552020', 'OMAR': '0124478202020'}\n",
      "0125555552020\n"
     ]
    }
   ],
   "source": [
    "contacts = {\n",
    "    \"MINA\":\"01525252525\" ,\n",
    "    \"ROFA\":\"0215158552\"\n",
    "}\n",
    "contacts [\"PETER\"] = \"012020202020\"\n",
    "contacts [\"FADY\"] = \"0125555552020\"\n",
    "contacts [\"OMAR\"] = \"0124478202020\"\n",
    "print (contacts)\n",
    "print (contacts [\"FADY\"])\n"
   ]
  }
 ],
 "metadata": {
  "kernelspec": {
   "display_name": "Python 3",
   "language": "python",
   "name": "python3"
  },
  "language_info": {
   "codemirror_mode": {
    "name": "ipython",
    "version": 3
   },
   "file_extension": ".py",
   "mimetype": "text/x-python",
   "name": "python",
   "nbconvert_exporter": "python",
   "pygments_lexer": "ipython3",
   "version": "3.13.1"
  }
 },
 "nbformat": 4,
 "nbformat_minor": 2
}
